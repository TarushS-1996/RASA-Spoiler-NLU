{
 "cells": [
  {
   "cell_type": "markdown",
   "metadata": {},
   "source": [
    "# RASA Training process\n",
    "\n",
    "In this we will simply just load data, specify a configuration and start a simple tensorflow based training process. "
   ]
  },
  {
   "cell_type": "code",
   "execution_count": null,
   "metadata": {},
   "outputs": [],
   "source": [
    "import rasa.nlu\n",
    "import rasa.core\n",
    "import spacy"
   ]
  },
  {
   "cell_type": "raw",
   "metadata": {},
   "source": [
    "We first load base libraries."
   ]
  },
  {
   "cell_type": "code",
   "execution_count": null,
   "metadata": {},
   "outputs": [],
   "source": [
    "from rasa.nlu.training_data import load_data\n",
    "from rasa.nlu.config import RasaNLUModelConfig\n",
    "from rasa.nlu.model import Trainer\n",
    "from rasa.nlu import config "
   ]
  },
  {
   "cell_type": "raw",
   "metadata": {},
   "source": [
    "Next we are loading the other requirements for training, loading and coniguration to help with training process."
   ]
  },
  {
   "cell_type": "code",
   "execution_count": null,
   "metadata": {},
   "outputs": [],
   "source": [
    "train_data = load_data(\"spoiler.md\")\n",
    "trainer = Trainer(config.load(\"policies.yaml\"))"
   ]
  },
  {
   "cell_type": "raw",
   "metadata": {},
   "source": [
    "Loading the data stored as a markdown file as training data and load the trainer configuration which tells rasa basically what kinda intent, entity or epochs are required by the user. "
   ]
  },
  {
   "cell_type": "code",
   "execution_count": null,
   "metadata": {},
   "outputs": [],
   "source": [
    "interpreter = trainer.train(train_data)\n",
    "model_direct = trainer.persist(\"./models/nlu\", fixed_model_name = \"spoiler_detection\")"
   ]
  },
  {
   "cell_type": "raw",
   "metadata": {},
   "source": [
    "Now we tell the trainer to train on the provided data and save the model in a specific directory. In this example we will save it in directory of \"./models/nlu\". We also provide a name for the model to be saved on by using the fixed_model_name variable. You can change the name as per your requirements. "
   ]
  },
  {
   "cell_type": "code",
   "execution_count": null,
   "metadata": {},
   "outputs": [],
   "source": [
    "print(\"Model training done !!!!!!!!!\")"
   ]
  },
  {
   "cell_type": "raw",
   "metadata": {},
   "source": [
    "Finally your custom model is ready to be used. "
   ]
  }
 ],
 "metadata": {
  "kernelspec": {
   "display_name": "Python 3",
   "language": "python",
   "name": "python3"
  },
  "language_info": {
   "codemirror_mode": {
    "name": "ipython",
    "version": 3
   },
   "file_extension": ".py",
   "mimetype": "text/x-python",
   "name": "python",
   "nbconvert_exporter": "python",
   "pygments_lexer": "ipython3",
   "version": "3.6.9"
  }
 },
 "nbformat": 4,
 "nbformat_minor": 2
}
